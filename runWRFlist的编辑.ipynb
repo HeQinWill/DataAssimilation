{
 "cells": [
  {
   "cell_type": "markdown",
   "metadata": {},
   "source": [
    "# sample\n",
    "```shell\n",
    "bash runWRF.sh 2014122900201412300024\n",
    "```\n",
    "- 2014122900 为开始时间yyyymmddhh\n",
    "- 2014123000 为结束时间yyyymmddhh\n",
    "- 24 为上面两者的时间间隔"
   ]
  },
  {
   "cell_type": "code",
   "execution_count": 1,
   "metadata": {
    "scrolled": true
   },
   "outputs": [
    {
     "name": "stdout",
     "output_type": "stream",
     "text": [
      "bash runWRF.sh 2014122900201412300024\n"
     ]
    }
   ],
   "source": [
    "timeLine = '2014122900201412300024'\n",
    "print('bash runWRF.sh '+timeLine)"
   ]
  },
  {
   "cell_type": "code",
   "execution_count": 63,
   "metadata": {},
   "outputs": [
    {
     "name": "stdout",
     "output_type": "stream",
     "text": [
      "本次的时间间隔(h)：06\n",
      "以上面的时间间隔转几轮：111\n",
      "本次的开始时间yyyymmddhh：2014121300\n",
      "bash runWRF.sh 2014121300201412130606\n",
      "bash runWRF.sh 2014121306201412131206\n",
      "bash runWRF.sh 2014121312201412131806\n",
      "bash runWRF.sh 2014121318201412140006\n",
      "bash runWRF.sh 2014121400201412140606\n",
      "bash runWRF.sh 2014121406201412141206\n",
      "bash runWRF.sh 2014121412201412141806\n",
      "bash runWRF.sh 2014121418201412150006\n",
      "bash runWRF.sh 2014121500201412150606\n",
      "bash runWRF.sh 2014121506201412151206\n",
      "bash runWRF.sh 2014121512201412151806\n",
      "bash runWRF.sh 2014121518201412160006\n",
      "bash runWRF.sh 2014121600201412160606\n",
      "bash runWRF.sh 2014121606201412161206\n",
      "bash runWRF.sh 2014121612201412161806\n",
      "bash runWRF.sh 2014121618201412170006\n",
      "bash runWRF.sh 2014121700201412170606\n",
      "bash runWRF.sh 2014121706201412171206\n",
      "bash runWRF.sh 2014121712201412171806\n",
      "bash runWRF.sh 2014121718201412180006\n",
      "bash runWRF.sh 2014121800201412180606\n",
      "bash runWRF.sh 2014121806201412181206\n",
      "bash runWRF.sh 2014121812201412181806\n",
      "bash runWRF.sh 2014121818201412190006\n",
      "bash runWRF.sh 2014121900201412190606\n",
      "bash runWRF.sh 2014121906201412191206\n",
      "bash runWRF.sh 2014121912201412191806\n",
      "bash runWRF.sh 2014121918201412200006\n",
      "bash runWRF.sh 2014122000201412200606\n",
      "bash runWRF.sh 2014122006201412201206\n",
      "bash runWRF.sh 2014122012201412201806\n",
      "bash runWRF.sh 2014122018201412210006\n",
      "bash runWRF.sh 2014122100201412210606\n",
      "bash runWRF.sh 2014122106201412211206\n",
      "bash runWRF.sh 2014122112201412211806\n",
      "bash runWRF.sh 2014122118201412220006\n",
      "bash runWRF.sh 2014122200201412220606\n",
      "bash runWRF.sh 2014122206201412221206\n",
      "bash runWRF.sh 2014122212201412221806\n",
      "bash runWRF.sh 2014122218201412230006\n",
      "bash runWRF.sh 2014122300201412230606\n",
      "bash runWRF.sh 2014122306201412231206\n",
      "bash runWRF.sh 2014122312201412231806\n",
      "bash runWRF.sh 2014122318201412240006\n",
      "bash runWRF.sh 2014122400201412240606\n",
      "bash runWRF.sh 2014122406201412241206\n",
      "bash runWRF.sh 2014122412201412241806\n",
      "bash runWRF.sh 2014122418201412250006\n",
      "bash runWRF.sh 2014122500201412250606\n",
      "bash runWRF.sh 2014122506201412251206\n",
      "bash runWRF.sh 2014122512201412251806\n",
      "bash runWRF.sh 2014122518201412260006\n",
      "bash runWRF.sh 2014122600201412260606\n",
      "bash runWRF.sh 2014122606201412261206\n",
      "bash runWRF.sh 2014122612201412261806\n",
      "bash runWRF.sh 2014122618201412270006\n",
      "bash runWRF.sh 2014122700201412270606\n",
      "bash runWRF.sh 2014122706201412271206\n",
      "bash runWRF.sh 2014122712201412271806\n",
      "bash runWRF.sh 2014122718201412280006\n",
      "bash runWRF.sh 2014122800201412280606\n",
      "bash runWRF.sh 2014122806201412281206\n",
      "bash runWRF.sh 2014122812201412281806\n",
      "bash runWRF.sh 2014122818201412290006\n",
      "bash runWRF.sh 2014122900201412290606\n",
      "bash runWRF.sh 2014122906201412291206\n",
      "bash runWRF.sh 2014122912201412291806\n",
      "bash runWRF.sh 2014122918201412300006\n",
      "bash runWRF.sh 2014123000201412300606\n",
      "bash runWRF.sh 2014123006201412301206\n",
      "bash runWRF.sh 2014123012201412301806\n",
      "bash runWRF.sh 2014123018201412310006\n",
      "bash runWRF.sh 2014123100201412310606\n",
      "bash runWRF.sh 2014123106201412311206\n",
      "bash runWRF.sh 2014123112201412311806\n",
      "bash runWRF.sh 2014123118201501010006\n",
      "bash runWRF.sh 2015010100201501010606\n",
      "bash runWRF.sh 2015010106201501011206\n",
      "bash runWRF.sh 2015010112201501011806\n",
      "bash runWRF.sh 2015010118201501020006\n",
      "bash runWRF.sh 2015010200201501020606\n",
      "bash runWRF.sh 2015010206201501021206\n",
      "bash runWRF.sh 2015010212201501021806\n",
      "bash runWRF.sh 2015010218201501030006\n",
      "bash runWRF.sh 2015010300201501030606\n",
      "bash runWRF.sh 2015010306201501031206\n",
      "bash runWRF.sh 2015010312201501031806\n",
      "bash runWRF.sh 2015010318201501040006\n",
      "bash runWRF.sh 2015010400201501040606\n",
      "bash runWRF.sh 2015010406201501041206\n",
      "bash runWRF.sh 2015010412201501041806\n",
      "bash runWRF.sh 2015010418201501050006\n",
      "bash runWRF.sh 2015010500201501050606\n",
      "bash runWRF.sh 2015010506201501051206\n",
      "bash runWRF.sh 2015010512201501051806\n",
      "bash runWRF.sh 2015010518201501060006\n",
      "bash runWRF.sh 2015010600201501060606\n",
      "bash runWRF.sh 2015010606201501061206\n",
      "bash runWRF.sh 2015010612201501061806\n",
      "bash runWRF.sh 2015010618201501070006\n",
      "bash runWRF.sh 2015010700201501070606\n",
      "bash runWRF.sh 2015010706201501071206\n",
      "bash runWRF.sh 2015010712201501071806\n",
      "bash runWRF.sh 2015010718201501080006\n",
      "bash runWRF.sh 2015010800201501080606\n",
      "bash runWRF.sh 2015010806201501081206\n",
      "bash runWRF.sh 2015010812201501081806\n",
      "bash runWRF.sh 2015010818201501090006\n",
      "bash runWRF.sh 2015010900201501090606\n",
      "bash runWRF.sh 2015010906201501091206\n",
      "bash runWRF.sh 2015010912201501091806\n"
     ]
    }
   ],
   "source": [
    "# -*- coding: UTF-8 -*-\n",
    "import time\n",
    "import datetime\n",
    "\n",
    "interval =  input('本次的时间间隔(hh)：') #e.g. 06\n",
    "cycle = input('以上面的时间间隔转几轮：') #e.g. 50\n",
    "startTime = input('本次的开始时间yyyymmddhh：') #e.g.  2014120100\n",
    "\n",
    "for c in range(int(cycle)):\n",
    "    time1 = datetime.datetime.strptime(str(startTime), \"%Y%m%d%H\")\n",
    "    time2 = (time1+datetime.timedelta(hours=int(interval))).strftime(\"%Y%m%d%H\")\n",
    "    startTime = time2\n",
    "    print('bash runWRF.sh '+time1.strftime(\"%Y%m%d%H\")+time2+str(interval))"
   ]
  },
  {
   "cell_type": "code",
   "execution_count": null,
   "metadata": {
    "collapsed": true
   },
   "outputs": [],
   "source": []
  }
 ],
 "metadata": {
  "kernelspec": {
   "display_name": "Python [conda root]",
   "language": "python",
   "name": "conda-root-py"
  },
  "language_info": {
   "codemirror_mode": {
    "name": "ipython",
    "version": 3
   },
   "file_extension": ".py",
   "mimetype": "text/x-python",
   "name": "python",
   "nbconvert_exporter": "python",
   "pygments_lexer": "ipython3",
   "version": "3.6.3"
  }
 },
 "nbformat": 4,
 "nbformat_minor": 2
}
