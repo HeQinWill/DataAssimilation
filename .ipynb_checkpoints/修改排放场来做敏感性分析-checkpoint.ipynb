{
 "cells": [
  {
   "cell_type": "markdown",
   "metadata": {},
   "source": [
    "# 原来的程序：获取每个网格的中心经纬度信息\n",
    "可以直接拿来使用\n",
    "```python\n",
    "from netCDF4 import Dataset\n",
    "import numpy as np\n",
    "nc_in_file = \"/Users/heqin/Desktop/wrfchemi_12z_d01\"\n",
    "#nc_in_file = \"/Users/heqin/Desktop/wrfchemi_00z_d01\"\n",
    "fr = Dataset(nc_in_file, mode='r')\n",
    "lon = fr.variables['XLONG'][:][0]\n",
    "lat = fr.variables['XLAT'][:][0]\n",
    "print(lon)\n",
    "print(lat)\n",
    "\n",
    "for j in range(83):#ns,行\n",
    "    for i in range(91):#we，列\n",
    "        print(j,i,lon[j][i],lat[j][i])\n",
    "```"
   ]
  },
  {
   "cell_type": "markdown",
   "metadata": {},
   "source": [
    "但是为了直接导入Google earth去判断位置，稍微做些处理"
   ]
  },
  {
   "cell_type": "code",
   "execution_count": 17,
   "metadata": {
    "collapsed": true
   },
   "outputs": [],
   "source": [
    "from netCDF4 import Dataset\n",
    "import numpy as np\n",
    "nc_in_file = \"/Users/heqin/Desktop/wrfchemi_12z_d01\"\n",
    "#nc_in_file = \"/Users/heqin/Desktop/wrfchemi_00z_d01\"\n",
    "fr = Dataset(nc_in_file, mode='r')\n",
    "lon = fr.variables['XLONG'][:][0]\n",
    "lat = fr.variables['XLAT'][:][0]\n",
    "with open('wrf_d01排放场网格中心经纬度.txt','w') as f:\n",
    "    print('lon','lat','jjii',sep=',',file=f)\n",
    "    for j in range(83):#ns,行\n",
    "        for i in range(91):#we，列\n",
    "            print(lon[j][i],lat[j][i],\"{:0>2}{:0>2}\".format(str(j), str(i)),sep=',',file=f)"
   ]
  },
  {
   "cell_type": "markdown",
   "metadata": {},
   "source": [
    "# 原来的程序：将苏北的置0\n",
    "```python\n",
    "from netCDF4 import Dataset\n",
    "import numpy as np\n",
    "nc_in_file = \"/Users/heqin/Desktop/wrfchemi_12z_d01.nc\"\n",
    "fr = Dataset(nc_in_file, mode='r')\n",
    "\n",
    "for i in range(3,len(fr.variables.keys())):\n",
    "    variable_key = list(fr.variables.keys())[i]\n",
    "    tmp = fr.variables[variable_key][:]\n",
    "    for t in range(12):\n",
    "        for l in range(11):\n",
    "            tmp[t][l][35][63]=0#time,layer,sn,we\n",
    "            tmp[t][l][35][64]=0\n",
    "            tmp[t][l][35][65]=0\n",
    "            tmp[t][l][35][66]=0\n",
    "            tmp[t][l][35][67]=0\n",
    "            tmp[t][l][35][68]=0\n",
    "            tmp[t][l][36][63]=0#time,layer,sn,we\n",
    "            tmp[t][l][36][64]=0\n",
    "            tmp[t][l][36][65]=0\n",
    "            tmp[t][l][36][66]=0\n",
    "            tmp[t][l][36][67]=0\n",
    "            tmp[t][l][36][68]=0\n",
    "            tmp[t][l][37][62]=0#time,layer,sn,we\n",
    "            tmp[t][l][37][63]=0\n",
    "            tmp[t][l][37][64]=0\n",
    "            tmp[t][l][37][65]=0\n",
    "            tmp[t][l][37][66]=0\n",
    "            tmp[t][l][37][67]=0\n",
    "            tmp[t][l][38][60]=0#time,layer,sn,we\n",
    "            tmp[t][l][38][61]=0\n",
    "            tmp[t][l][38][62]=0\n",
    "            tmp[t][l][38][63]=0\n",
    "            tmp[t][l][38][64]=0\n",
    "            tmp[t][l][38][65]=0\n",
    "            tmp[t][l][38][66]=0\n",
    "            tmp[t][l][38][67]=0\n",
    "            tmp[t][l][39][60]=0#time,layer,sn,we\n",
    "            tmp[t][l][39][59]=0\n",
    "            tmp[t][l][39][64]=0\n",
    "            tmp[t][l][39][65]=0\n",
    "            tmp[t][l][39][66]=0\n",
    "    nc_out_file = \"/Users/heqin/Desktop/wrfchemi_12z_d01.nc\"\n",
    "    fw = Dataset(nc_out_file, mode='a')\n",
    "    fw.variables[variable_key][:]=tmp\n",
    "    fw.close()\n",
    "```"
   ]
  },
  {
   "cell_type": "markdown",
   "metadata": {},
   "source": [
    "# 原来的程序：只保留华北地区的\n",
    "```python\n",
    "from netCDF4 import Dataset\n",
    "import numpy as np\n",
    "nc_in_file = \"/Users/heqin/Desktop/wrfchemi_12z_d01.nc\"\n",
    "fr = Dataset(nc_in_file, mode='r')\n",
    "\n",
    "lon = fr.variables['XLONG'][:][0]\n",
    "tag=lon\n",
    "\n",
    "huabeiWRF = np.loadtxt('/Users/heqin/Desktop/Untitled-1.txt') \n",
    "\n",
    "for t in range(697):\n",
    "    jj=int(huabeiWRF[t][0])\n",
    "    ii=int(huabeiWRF[t][1])\n",
    "    print('_____________________________________________________')\n",
    "    print(jj,ii)\n",
    "    for j in range(37,82):#ns,行\n",
    "        for i in range(22,69):#we，列\n",
    "            if j==jj and i==ii:\n",
    "                tag[j][i]=1\n",
    "            #print(j,i,tag[j][i])\n",
    "            \n",
    "            \n",
    "for i in range(3,len(fr.variables.keys())):\n",
    "    variable_key = list(fr.variables.keys())[i]\n",
    "    tmp = fr.variables[variable_key][:]\n",
    "    for t in range(12):\n",
    "        for l in range(11):\n",
    "            for y in range(83):\n",
    "                for x in range(91):\n",
    "                    if tag[y][x]!=1:\n",
    "                        tmp[t][l][y][x]=0#time,layer,sn,we\n",
    "                \n",
    "       \n",
    "    nc_out_file = \"/Users/heqin/Desktop/wrfchemi_12z_d01.nc\"\n",
    "    fw = Dataset(nc_out_file, mode='a')\n",
    "    fw.variables[variable_key][:]=tmp\n",
    "    fw.close()\n",
    "```"
   ]
  },
  {
   "cell_type": "markdown",
   "metadata": {},
   "source": [
    "# 找区域对应的像元\n",
    "## 源区域\n",
    "- 河北\n",
    "- 北京\n",
    "- 天津\n",
    "- 山东\n",
    "- 河南\n",
    "- 山西\n",
    "- 湖北\n",
    "\n",
    "## 输入区域\n",
    "- 徐州\n",
    "- 连云港\n",
    "- 宿迁\n",
    "- 淮安\n",
    "- 盐城"
   ]
  },
  {
   "cell_type": "code",
   "execution_count": null,
   "metadata": {
    "collapsed": true
   },
   "outputs": [],
   "source": []
  },
  {
   "cell_type": "code",
   "execution_count": null,
   "metadata": {
    "collapsed": true
   },
   "outputs": [],
   "source": []
  },
  {
   "cell_type": "markdown",
   "metadata": {},
   "source": [
    "# case1:输入区域增加10%"
   ]
  },
  {
   "cell_type": "code",
   "execution_count": null,
   "metadata": {
    "collapsed": true
   },
   "outputs": [],
   "source": [
    "from netCDF4 import Dataset\n",
    "import numpy as np\n",
    "nc_in_file = \"/Users/heqin/Desktop/wrfchemi_12z_d01.nc\"\n",
    "#nc_in_file = \"/Users/heqin/Desktop/wrfchemi_00z_d01.nc\"\n",
    "fr = Dataset(nc_in_file, mode='r')\n",
    "\n",
    "def ss(gridValue):\n",
    "    return gridValue*1.1\n",
    "\n",
    "for i in range(3,len(fr.variables.keys())):\n",
    "    variable_key = list(fr.variables.keys())[i]\n",
    "    tmp = fr.variables[variable_key][:]\n",
    "    for t in range(12):\n",
    "        for l in range(11):\n",
    "            tmp[t][l][35][63]=ss(tmp[t][l][35][63])#time,layer,sn,we\n",
    "            tmp[t][l][35][64]=ss(tmp[t][l][35][64])\n",
    "            tmp[t][l][35][65]=ss(tmp[t][l][35][65])\n",
    "            tmp[t][l][35][66]=ss(tmp[t][l][35][66])\n",
    "            tmp[t][l][35][67]=ss(tmp[t][l][35][67])\n",
    "            tmp[t][l][35][68]=ss(tmp[t][l][35][68])\n",
    "            tmp[t][l][35][69]=ss(tmp[t][l][35][69])\n",
    "            tmp[t][l][36][63]=ss(tmp[t][l][36][63])\n",
    "            tmp[t][l][36][64]=ss(tmp[t][l][36][64])\n",
    "            tmp[t][l][36][65]=ss(tmp[t][l][36][65])\n",
    "            tmp[t][l][36][66]=ss(tmp[t][l][36][66])\n",
    "            tmp[t][l][36][67]=ss(tmp[t][l][36][67])\n",
    "            tmp[t][l][36][68]=ss(tmp[t][l][36][68])\n",
    "            tmp[t][l][37][61]=ss(tmp[t][l][37][61])\n",
    "            tmp[t][l][37][62]=ss(tmp[t][l][37][62])\n",
    "            tmp[t][l][37][63]=ss(tmp[t][l][37][63])\n",
    "            tmp[t][l][37][64]=ss(tmp[t][l][37][64])\n",
    "            tmp[t][l][37][65]=ss(tmp[t][l][37][65])\n",
    "            tmp[t][l][37][66]=ss(tmp[t][l][37][66])\n",
    "            tmp[t][l][37][67]=ss(tmp[t][l][37][67])\n",
    "            tmp[t][l][37][68]=ss(tmp[t][l][37][68])\n",
    "            tmp[t][l][38][60]=ss(tmp[t][l][38][60])\n",
    "            tmp[t][l][38][61]=ss(tmp[t][l][38][61])\n",
    "            tmp[t][l][38][62]=ss(tmp[t][l][38][62])\n",
    "            tmp[t][l][38][63]=ss(tmp[t][l][38][63])\n",
    "            tmp[t][l][38][64]=ss(tmp[t][l][38][64])\n",
    "            tmp[t][l][38][65]=ss(tmp[t][l][38][65])\n",
    "            tmp[t][l][38][66]=ss(tmp[t][l][38][66])\n",
    "            tmp[t][l][38][67]=ss(tmp[t][l][38][67])\n",
    "            tmp[t][l][39][60]=ss(tmp[t][l][39][60])\n",
    "            tmp[t][l][39][59]=ss(tmp[t][l][39][59])\n",
    "            tmp[t][l][39][64]=ss(tmp[t][l][39][64])\n",
    "            tmp[t][l][39][65]=ss(tmp[t][l][39][65])\n",
    "            tmp[t][l][39][66]=ss(tmp[t][l][39][66])\n",
    "            \n",
    "    nc_out_file = \"/Users/heqin/Desktop/wrfchemi_12z_d01.nc\"\n",
    "    #nc_out_file = \"/Users/heqin/Desktop/wrfchemi_00z_d01.nc\"\n",
    "    fw = Dataset(nc_out_file, mode='a')\n",
    "    fw.variables[variable_key][:]=tmp\n",
    "    fw.close()"
   ]
  },
  {
   "cell_type": "code",
   "execution_count": null,
   "metadata": {
    "collapsed": true
   },
   "outputs": [],
   "source": [
    "from netCDF4 import Dataset\n",
    "import numpy as np\n",
    "nc_in_file = \"/Users/heqin/Desktop/wrfchemi_12z_d01.nc\"\n",
    "#nc_in_file = \"/Users/heqin/Desktop/wrfchemi_00z_d01.nc\"\n",
    "fr = Dataset(nc_in_file, mode='r')\n",
    "\n",
    "def ss(gridValue):\n",
    "    return gridValue*1.1\n",
    "\n",
    "for i in range(3,len(fr.variables.keys())):\n",
    "    variable_key = list(fr.variables.keys())[i]\n",
    "    tmp = fr.variables[variable_key][:]\n",
    "    for t in range(12):\n",
    "        for l in range(11):\n",
    "            tmp[t][l][35][63]=ss(tmp[t][l][35][63])#time,layer,sn,we\n",
    "    nc_out_file = \"/Users/heqin/Desktop/wrfchemi_12z_d01.nc\"\n",
    "    #nc_out_file = \"/Users/heqin/Desktop/wrfchemi_00z_d01.nc\"\n",
    "    fw = Dataset(nc_out_file, mode='a')\n",
    "    fw.variables[variable_key][:]=tmp\n",
    "    fw.close()"
   ]
  }
 ],
 "metadata": {
  "kernelspec": {
   "display_name": "Python [conda env:anaconda3]",
   "language": "python",
   "name": "conda-env-anaconda3-py"
  },
  "language_info": {
   "codemirror_mode": {
    "name": "ipython",
    "version": 3
   },
   "file_extension": ".py",
   "mimetype": "text/x-python",
   "name": "python",
   "nbconvert_exporter": "python",
   "pygments_lexer": "ipython3",
   "version": "3.6.3"
  }
 },
 "nbformat": 4,
 "nbformat_minor": 2
}
